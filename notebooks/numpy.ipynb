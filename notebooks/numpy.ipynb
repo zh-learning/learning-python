{
 "cells": [
  {
   "cell_type": "code",
   "execution_count": 1,
   "id": "40080052-f872-432b-8836-4aa127ad2922",
   "metadata": {},
   "outputs": [],
   "source": [
    "import numpy as np"
   ]
  },
  {
   "cell_type": "code",
   "execution_count": 2,
   "id": "91052669-df36-4f0f-bb18-2293a5c6e8c6",
   "metadata": {},
   "outputs": [
    {
     "name": "stdout",
     "output_type": "stream",
     "text": [
      "[1] 1 (1,)\n"
     ]
    }
   ],
   "source": [
    "arr_1_d = np.asarray([1])\n",
    "print(arr_1_d, arr_1_d.ndim, arr_1_d.shape)"
   ]
  },
  {
   "cell_type": "code",
   "execution_count": 3,
   "id": "062fe4c4-8c02-4366-a09b-a892306ffb41",
   "metadata": {},
   "outputs": [
    {
     "name": "stdout",
     "output_type": "stream",
     "text": [
      "[[1 2]\n",
      " [3 4]] 2 (2, 2)\n"
     ]
    }
   ],
   "source": [
    "arr_2_d = np.asarray([[1, 2], [3, 4]])\n",
    "print(arr_2_d, arr_2_d.ndim, arr_2_d.shape)"
   ]
  },
  {
   "cell_type": "code",
   "execution_count": 4,
   "id": "39290890-f2b2-4a1d-bb58-5df1ff063a8b",
   "metadata": {},
   "outputs": [
    {
     "data": {
      "text/plain": [
       "array([[1],\n",
       "       [2],\n",
       "       [3],\n",
       "       [4]])"
      ]
     },
     "execution_count": 4,
     "metadata": {},
     "output_type": "execute_result"
    }
   ],
   "source": [
    "arr_2_d.reshape((4, 1))"
   ]
  },
  {
   "cell_type": "code",
   "execution_count": 5,
   "id": "f8f1df5e-a1c7-45e6-9b23-70b31fcd59e7",
   "metadata": {},
   "outputs": [
    {
     "data": {
      "text/plain": [
       "dtype('int64')"
      ]
     },
     "execution_count": 5,
     "metadata": {},
     "output_type": "execute_result"
    }
   ],
   "source": [
    "arr_2_d.dtype"
   ]
  },
  {
   "cell_type": "code",
   "execution_count": 6,
   "id": "265ecb45-a400-4de1-8298-8438c1fc8d65",
   "metadata": {},
   "outputs": [
    {
     "data": {
      "text/plain": [
       "array([[0, 2, 4],\n",
       "       [1, 3, 5]])"
      ]
     },
     "execution_count": 6,
     "metadata": {},
     "output_type": "execute_result"
    }
   ],
   "source": [
    "a = np.arange(6).reshape(2, 3, order=\"F\")\n",
    "a"
   ]
  },
  {
   "cell_type": "code",
   "execution_count": 7,
   "id": "ba40cfb4-83ff-4645-9aeb-4b02daffa04c",
   "metadata": {},
   "outputs": [
    {
     "data": {
      "text/plain": [
       "4"
      ]
     },
     "execution_count": 7,
     "metadata": {},
     "output_type": "execute_result"
    }
   ],
   "source": [
    "arr_2_d.size"
   ]
  },
  {
   "cell_type": "code",
   "execution_count": 8,
   "id": "98951a34-a39d-4b6c-907a-03aec63dc822",
   "metadata": {},
   "outputs": [
    {
     "data": {
      "text/plain": [
       "dtype('int64')"
      ]
     },
     "execution_count": 8,
     "metadata": {},
     "output_type": "execute_result"
    }
   ],
   "source": [
    "arr_2_d.dtype"
   ]
  },
  {
   "cell_type": "markdown",
   "id": "8c4d474a-465e-4c27-88be-86ea2ec12210",
   "metadata": {},
   "source": [
    "## 创建数组的其他方式\n",
    "\n",
    "创建数组的其他方式\n"
   ]
  },
  {
   "cell_type": "code",
   "execution_count": 9,
   "id": "4a6f93e6-8677-4b6c-bff7-5b89178de02a",
   "metadata": {},
   "outputs": [
    {
     "data": {
      "text/plain": [
       "array([[1., 1., 1., 1.],\n",
       "       [1., 1., 1., 1.],\n",
       "       [1., 1., 1., 1.]])"
      ]
     },
     "execution_count": 9,
     "metadata": {},
     "output_type": "execute_result"
    }
   ],
   "source": [
    "np.ones((3, 4))"
   ]
  },
  {
   "cell_type": "code",
   "execution_count": 10,
   "id": "6c6e80ac-7332-42e3-84b7-d9d599dac98a",
   "metadata": {},
   "outputs": [
    {
     "data": {
      "text/plain": [
       "array([[0., 0., 0., 0., 0.],\n",
       "       [0., 0., 0., 0., 0.],\n",
       "       [0., 0., 0., 0., 0.],\n",
       "       [0., 0., 0., 0., 0.]])"
      ]
     },
     "execution_count": 10,
     "metadata": {},
     "output_type": "execute_result"
    }
   ],
   "source": [
    "np.zeros((4, 5))"
   ]
  },
  {
   "cell_type": "code",
   "execution_count": 11,
   "id": "62132304-15ba-419a-8c9d-97fb7895edb1",
   "metadata": {},
   "outputs": [
    {
     "data": {
      "text/plain": [
       "array([[0.78, 0.78, 0.78],\n",
       "       [0.78, 0.78, 0.78]])"
      ]
     },
     "execution_count": 11,
     "metadata": {},
     "output_type": "execute_result"
    }
   ],
   "source": [
    "np.ones((2, 3)) * 0.78"
   ]
  },
  {
   "cell_type": "code",
   "execution_count": 12,
   "id": "f29fda60-ed18-4092-93fd-c11fe784c999",
   "metadata": {},
   "outputs": [
    {
     "data": {
      "text/plain": [
       "array([ 1,  4,  7, 10, 13, 16, 19, 22, 25, 28, 31, 34, 37, 40, 43])"
      ]
     },
     "execution_count": 12,
     "metadata": {},
     "output_type": "execute_result"
    }
   ],
   "source": [
    "np.arange(1, 46, 3)"
   ]
  },
  {
   "cell_type": "code",
   "execution_count": 13,
   "id": "e9a564c6-a3c5-416f-99ac-b81129e9bd53",
   "metadata": {},
   "outputs": [
    {
     "data": {
      "text/plain": [
       "array([   3.        ,   75.92857143,  148.85714286,  221.78571429,\n",
       "        294.71428571,  367.64285714,  440.57142857,  513.5       ,\n",
       "        586.42857143,  659.35714286,  732.28571429,  805.21428571,\n",
       "        878.14285714,  951.07142857, 1024.        ])"
      ]
     },
     "execution_count": 13,
     "metadata": {},
     "output_type": "execute_result"
    }
   ],
   "source": [
    "np.linspace(3, 1024, 15)"
   ]
  },
  {
   "cell_type": "markdown",
   "id": "876f33ef-81a3-4daa-8c5b-e39aaa537481",
   "metadata": {},
   "source": [
    "## 数组中轴的概念"
   ]
  },
  {
   "cell_type": "code",
   "execution_count": 14,
   "id": "cf7b4dea-2871-4891-bde4-43b18ae7854e",
   "metadata": {},
   "outputs": [
    {
     "data": {
      "text/plain": [
       "array([[9, 9, 7],\n",
       "       [0, 1, 5],\n",
       "       [7, 5, 5],\n",
       "       [0, 6, 6]])"
      ]
     },
     "execution_count": 14,
     "metadata": {},
     "output_type": "execute_result"
    }
   ],
   "source": [
    "interest_score = np.random.randint(10, size=(4, 3))\n",
    "interest_score"
   ]
  },
  {
   "cell_type": "code",
   "execution_count": 15,
   "id": "b0d1a1dc-c561-481d-8dc5-fb0881d2be2f",
   "metadata": {},
   "outputs": [
    {
     "data": {
      "text/plain": [
       "array([16, 21, 23])"
      ]
     },
     "execution_count": 15,
     "metadata": {},
     "output_type": "execute_result"
    }
   ],
   "source": [
    "np.sum(interest_score, axis=0)"
   ]
  },
  {
   "cell_type": "code",
   "execution_count": 16,
   "id": "581cb152-72a5-4f92-9b99-7ec5532c90a1",
   "metadata": {},
   "outputs": [
    {
     "data": {
      "text/plain": [
       "array([25,  6, 17, 12])"
      ]
     },
     "execution_count": 16,
     "metadata": {},
     "output_type": "execute_result"
    }
   ],
   "source": [
    "np.sum(interest_score, axis=1)"
   ]
  },
  {
   "cell_type": "code",
   "execution_count": 20,
   "id": "2e14fc0c-a71d-418b-9c45-f8a102a1862f",
   "metadata": {},
   "outputs": [
    {
     "data": {
      "text/plain": [
       "(700, 172)"
      ]
     },
     "execution_count": 20,
     "metadata": {},
     "output_type": "execute_result"
    }
   ],
   "source": [
    "from PIL import Image\n",
    "im = Image.open('/Users/gege/workspace-code/2Learning/learning-python/assets/geektime-logo-wap.webp')\n",
    "im.size"
   ]
  },
  {
   "cell_type": "code",
   "execution_count": null,
   "id": "add45d2f-ec4c-4e95-a203-8739dab910b7",
   "metadata": {},
   "outputs": [],
   "source": []
  }
 ],
 "metadata": {
  "kernelspec": {
   "display_name": "Python 3 (ipykernel)",
   "language": "python",
   "name": "python3"
  },
  "language_info": {
   "codemirror_mode": {
    "name": "ipython",
    "version": 3
   },
   "file_extension": ".py",
   "mimetype": "text/x-python",
   "name": "python",
   "nbconvert_exporter": "python",
   "pygments_lexer": "ipython3",
   "version": "3.12.8"
  }
 },
 "nbformat": 4,
 "nbformat_minor": 5
}
