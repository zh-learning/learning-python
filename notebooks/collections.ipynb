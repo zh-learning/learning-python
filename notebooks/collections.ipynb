{
 "cells": [
  {
   "cell_type": "code",
   "execution_count": 1,
   "id": "fcd779a6-55e1-4e57-a2f7-7f15d1cbb6d6",
   "metadata": {},
   "outputs": [],
   "source": [
    "from collections import Counter"
   ]
  },
  {
   "cell_type": "code",
   "execution_count": 4,
   "id": "38b1b017-b1cb-4a52-8dae-d483cc7083cd",
   "metadata": {},
   "outputs": [
    {
     "data": {
      "text/plain": [
       "Counter()"
      ]
     },
     "execution_count": 4,
     "metadata": {},
     "output_type": "execute_result"
    }
   ],
   "source": [
    "Counter() "
   ]
  },
  {
   "cell_type": "code",
   "execution_count": 5,
   "id": "1466317c-615d-4ace-8034-09cde1fbb1d4",
   "metadata": {},
   "outputs": [
    {
     "data": {
      "text/plain": [
       "Counter({'a': 3, 'l': 2, 'g': 1, 'h': 1, 'd': 1})"
      ]
     },
     "execution_count": 5,
     "metadata": {},
     "output_type": "execute_result"
    }
   ],
   "source": [
    "Counter('gallahad')"
   ]
  },
  {
   "cell_type": "code",
   "execution_count": 6,
   "id": "8ef35b69-be13-4036-bd8f-b503e490b9e2",
   "metadata": {},
   "outputs": [
    {
     "data": {
      "text/plain": [
       "Counter({'red': 4, 'blue': 2})"
      ]
     },
     "execution_count": 6,
     "metadata": {},
     "output_type": "execute_result"
    }
   ],
   "source": [
    "Counter({'red': 4, 'blue': 2})"
   ]
  },
  {
   "cell_type": "code",
   "execution_count": 7,
   "id": "6268e532-0c46-4e52-8186-be4177422329",
   "metadata": {},
   "outputs": [
    {
     "name": "stdout",
     "output_type": "stream",
     "text": [
      "Counter({'a': 3, 'b': 2, 'c': 2, 'd': 1}) Counter({'a': 1})\n"
     ]
    }
   ],
   "source": [
    "a = Counter('abca')\n",
    "b = Counter('cbad')\n",
    "print(a+b, a-b)"
   ]
  },
  {
   "cell_type": "code",
   "execution_count": null,
   "id": "d4af3261-9717-4ee9-a2b8-95b8e44db9ad",
   "metadata": {},
   "outputs": [],
   "source": []
  }
 ],
 "metadata": {
  "kernelspec": {
   "display_name": "Python 3 (ipykernel)",
   "language": "python",
   "name": "python3"
  },
  "language_info": {
   "codemirror_mode": {
    "name": "ipython",
    "version": 3
   },
   "file_extension": ".py",
   "mimetype": "text/x-python",
   "name": "python",
   "nbconvert_exporter": "python",
   "pygments_lexer": "ipython3",
   "version": "3.12.8"
  }
 },
 "nbformat": 4,
 "nbformat_minor": 5
}
